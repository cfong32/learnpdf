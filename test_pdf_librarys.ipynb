{
 "cells": [
  {
   "cell_type": "code",
   "execution_count": 2,
   "metadata": {},
   "outputs": [],
   "source": [
    "import os, io\n",
    "\n",
    "fname = r'pdf/1711.08600v1.pdf'\n",
    "fnames = ['pdf/'+f for f in os.listdir('pdf/') if os.path.isfile('pdf/'+f) and f.endswith('.pdf')]"
   ]
  },
  {
   "cell_type": "markdown",
   "metadata": {},
   "source": [
    "# Trying pdf2image"
   ]
  },
  {
   "cell_type": "code",
   "execution_count": 3,
   "metadata": {},
   "outputs": [
    {
     "name": "stdout",
     "output_type": "stream",
     "text": [
      "pdf/0107135v2.pdf\n",
      "pdf/0109002v1.pdf\n",
      "pdf/0111152v1.pdf\n",
      "pdf/0303055v2.pdf\n",
      "pdf/0902.0023v3.pdf\n",
      "pdf/0902.0191v1.pdf\n",
      "pdf/1006.5471v6.pdf\n",
      "pdf/1006.5690v1.pdf\n",
      "pdf/1007.1094v1.pdf\n",
      "pdf/1410.1272v2.pdf\n",
      "pdf/1411.2167v2.pdf\n",
      "pdf/1411.3075v3.pdf\n",
      "pdf/1411.3078v6.pdf\n",
      "pdf/1411.3947v5.pdf\n",
      "pdf/1411.4606v5.pdf\n",
      "pdf/1411.6250v7.pdf\n",
      "pdf/1704.06465v1.pdf\n",
      "pdf/1704.06564v1.pdf\n",
      "pdf/1704.06568v1.pdf\n",
      "pdf/1709.06072v1.pdf\n",
      "pdf/1709.06342v2.pdf\n",
      "pdf/1709.07041v2.pdf\n",
      "pdf/1709.07406v1.pdf\n",
      "pdf/1709.08980v2.pdf\n",
      "pdf/1709.08981v1.pdf\n",
      "pdf/1709.09115v1.pdf\n",
      "pdf/1710.08633v2.pdf\n",
      "pdf/1711.08600v1.pdf\n",
      "pdf/1711.11357v1.pdf\n",
      "pdf/9204001v1.pdf\n",
      "pdf/9204002v1.pdf\n",
      "pdf/9204003v2.pdf\n",
      "pdf/9312040v1.pdf\n",
      "pdf/9406083v2.pdf\n",
      "pdf/9512157v4.pdf\n",
      "pdf/9604033v3.pdf\n",
      "pdf/9604065v2.pdf\n",
      "pdf/_1711.08600v1.pdf\n"
     ]
    }
   ],
   "source": [
    "from pdf2image import convert_from_path\n",
    "\n",
    "for fname in fnames:\n",
    "    try:\n",
    "        print (fname)\n",
    "        images = convert_from_path(fname)\n",
    "        images[0].save(fname+'.png', 'png')\n",
    "\n",
    "    except:\n",
    "        continue\n",
    "\n",
    "# fname = r'pdf/1711.08600v1.pdf'\n",
    "# images = convert_from_path(fname)\n",
    "# for i, image in enumerate(images):\n",
    "#     image.save('%d.png'%i, 'png')"
   ]
  },
  {
   "cell_type": "code",
   "execution_count": null,
   "metadata": {},
   "outputs": [],
   "source": []
  },
  {
   "cell_type": "markdown",
   "metadata": {},
   "source": [
    "# Trying dumppdf"
   ]
  },
  {
   "cell_type": "code",
   "execution_count": null,
   "metadata": {},
   "outputs": [],
   "source": [
    "import dumppdf\n",
    "\n",
    "outfp = open('output.txt', 'w')\n",
    "fname = r'pdf/1711.08600v1.pdf'\n",
    "objids = []\n",
    "pagenos = [0,1,2]\n",
    "password = ''\n",
    "dumpall = True\n",
    "codec = 'text'\n",
    "extractdir = None\n",
    "\n",
    "dumppdf.dumppdf(outfp, fname, objids, pagenos, password=password, \n",
    "        dumpall=dumpall, codec=codec, extractdir=extractdir)\n",
    "\n",
    "outfp.close()"
   ]
  },
  {
   "cell_type": "markdown",
   "metadata": {},
   "source": [
    "# Trying convert_pdf_to_txt\n",
    "which was downloaded from stackoverflow"
   ]
  },
  {
   "cell_type": "code",
   "execution_count": null,
   "metadata": {},
   "outputs": [],
   "source": [
    "from pdfminer.pdfinterp import PDFResourceManager, PDFPageInterpreter\n",
    "from pdfminer.converter import TextConverter\n",
    "from pdfminer.layout import LAParams\n",
    "from pdfminer.pdfpage import PDFPage\n",
    "from io import StringIO\n",
    "import os \n",
    "\n",
    "def convert_pdf_to_txt(path, pages=None):\n",
    "    if not pages:\n",
    "        pagenums = set()\n",
    "    else:\n",
    "        pagenums = set(pages)\n",
    "    output = StringIO()\n",
    "    manager = PDFResourceManager()\n",
    "    converter = TextConverter(manager, output, laparams=LAParams())\n",
    "    interpreter = PDFPageInterpreter(manager, converter)\n",
    "\n",
    "    infile = open(path, 'rb')\n",
    "    for page in PDFPage.get_pages(infile, pagenums):\n",
    "        interpreter.process_page(page)\n",
    "    infile.close()\n",
    "    converter.close()\n",
    "    text = output.getvalue()\n",
    "    output.close()\n",
    "    return text"
   ]
  },
  {
   "cell_type": "code",
   "execution_count": null,
   "metadata": {},
   "outputs": [],
   "source": [
    "print (convert_pdf_to_txt(fname, [0]))"
   ]
  },
  {
   "cell_type": "markdown",
   "metadata": {},
   "source": [
    "# Trying HTMLConverter & XMLConverter\n",
    "with convert_pdf_to_txt\n",
    "which was downloaded from stackoverflow"
   ]
  },
  {
   "cell_type": "code",
   "execution_count": 3,
   "metadata": {},
   "outputs": [],
   "source": [
    "from pdfminer.pdfinterp import PDFResourceManager, PDFPageInterpreter\n",
    "from pdfminer.converter import TextConverter\n",
    "from pdfminer.converter import HTMLConverter\n",
    "from pdfminer.converter import XMLConverter\n",
    "from pdfminer.layout import LAParams\n",
    "from pdfminer.pdfpage import PDFPage\n",
    "from io import StringIO\n",
    "import os \n",
    "\n",
    "def convert_pdf_to_html(path, pages=None):\n",
    "    if not pages:\n",
    "        pagenums = set()\n",
    "    else:\n",
    "        pagenums = set(pages)\n",
    "        \n",
    "    output2 = StringIO()\n",
    "    manager2 = PDFResourceManager()\n",
    "    converter2 = HTMLConverter(manager2, output2, codec=None, laparams=LAParams())\n",
    "    interpreter2 = PDFPageInterpreter(manager2, converter2)\n",
    "    \n",
    "    infile = open(path, 'rb')\n",
    "    for page in PDFPage.get_pages(infile, pagenums):\n",
    "        interpreter2.process_page(page)\n",
    "                                      \n",
    "    infile.close()\n",
    "\n",
    "    converter2.close()\n",
    "    html = output2.getvalue()\n",
    "    output2.close()\n",
    "    \n",
    "    return html\n",
    "\n",
    "def convert_pdf_to_xml(path, pages=None):\n",
    "    if not pages:\n",
    "        pagenums = set()\n",
    "    else:\n",
    "        pagenums = set(pages)\n",
    "        \n",
    "    output3 = StringIO()\n",
    "    manager3 = PDFResourceManager()\n",
    "    converter3 = XMLConverter(manager3, output3, codec=None, laparams=LAParams())\n",
    "    interpreter3 = PDFPageInterpreter(manager3, converter3)\n",
    "    \n",
    "    infile = open(path, 'rb')\n",
    "    for page in PDFPage.get_pages(infile, pagenums):\n",
    "        interpreter3.process_page(page)\n",
    "                                      \n",
    "    infile.close()\n",
    "\n",
    "    converter3.close()\n",
    "    xml = output3.getvalue()\n",
    "    output3.close()\n",
    "    \n",
    "    return xml"
   ]
  },
  {
   "cell_type": "code",
   "execution_count": 27,
   "metadata": {},
   "outputs": [
    {
     "name": "stdout",
     "output_type": "stream",
     "text": [
      "pdf/0107135v2.pdf\n",
      "pdf/0109002v1.pdf\n",
      "pdf/0111152v1.pdf\n",
      "pdf/0303055v2.pdf\n",
      "pdf/0902.0023v3.pdf\n",
      "pdf/0902.0191v1.pdf\n",
      "pdf/1006.5471v6.pdf\n",
      "pdf/1006.5690v1.pdf\n",
      "pdf/1007.1094v1.pdf\n",
      "pdf/1410.1272v2.pdf\n",
      "pdf/1411.2167v2.pdf\n",
      "pdf/1411.3075v3.pdf\n",
      "pdf/1411.3078v6.pdf\n",
      "pdf/1411.3947v5.pdf\n",
      "pdf/1411.4606v5.pdf\n",
      "pdf/1411.6250v7.pdf\n",
      "pdf/1704.06465v1.pdf\n",
      "pdf/1704.06564v1.pdf\n",
      "pdf/1704.06568v1.pdf\n",
      "pdf/1709.06072v1.pdf\n",
      "pdf/1709.06342v2.pdf\n",
      "pdf/1709.07041v2.pdf\n",
      "pdf/1709.07406v1.pdf\n",
      "pdf/1709.08980v2.pdf\n",
      "pdf/1709.08981v1.pdf\n",
      "pdf/1709.09115v1.pdf\n",
      "pdf/1710.08633v2.pdf\n",
      "pdf/1711.08600v1.pdf\n",
      "pdf/1711.11357v1.pdf\n",
      "pdf/9204001v1.pdf\n",
      "pdf/9204002v1.pdf\n",
      "pdf/9204003v2.pdf\n",
      "pdf/9312040v1.pdf\n",
      "pdf/9406083v2.pdf\n",
      "pdf/9512157v4.pdf\n",
      "pdf/9604033v3.pdf\n",
      "pdf/9604065v2.pdf\n",
      "pdf/_1711.08600v1.pdf\n"
     ]
    }
   ],
   "source": [
    "import codecs\n",
    "import os, io\n",
    "\n",
    "files = ['pdf/'+f for f in os.listdir('pdf/') if os.path.isfile('pdf/'+f)]\n",
    "for f in files:\n",
    "    try:\n",
    "        print (f)\n",
    "        xml = convert_pdf_to_xml(f, [0])\n",
    "        with codecs.open(f+'.xml', 'w', 'utf-8') as g:\n",
    "            g.write(xml)\n",
    "        \n",
    "        html = convert_pdf_to_html(f, [0])\n",
    "        with codecs.open(f+'.html', 'w', 'utf-8') as g:\n",
    "            g.write(html)\n",
    "    except:\n",
    "        pass\n",
    "\n",
    "# fname = r'pdf/1711.08600v1.pdf'\n",
    "# xml = convert_pdf_to_xml(fname, [0])\n",
    "# with codecs.open('output.xml', 'w', 'utf-8') as f:\n",
    "#     f.write(xml)\n"
   ]
  },
  {
   "cell_type": "markdown",
   "metadata": {},
   "source": [
    "# Trying sample code\n",
    "by author of pdfminer"
   ]
  },
  {
   "cell_type": "code",
   "execution_count": null,
   "metadata": {},
   "outputs": [],
   "source": [
    "from pdfminer.pdfparser import PDFParser\n",
    "from pdfminer.pdfdocument import PDFDocument\n",
    "from pdfminer.pdfpage import PDFPage\n",
    "from pdfminer.pdfpage import PDFTextExtractionNotAllowed\n",
    "from pdfminer.pdfinterp import PDFResourceManager\n",
    "from pdfminer.pdfinterp import PDFPageInterpreter\n",
    "from pdfminer.pdfdevice import PDFDevice\n",
    "\n",
    "fname = r'pdf/1711.08600v1.pdf'\n",
    "\n",
    "# Open a PDF file.\n",
    "fp = open(fname, 'rb')\n",
    "\n",
    "# Create a PDF parser object associated with the file object.\n",
    "parser = PDFParser(fp)\n",
    "\n",
    "# Create a PDF document object that stores the document structure.\n",
    "# Supply the password for initialization.\n",
    "document = PDFDocument(parser)\n",
    "\n",
    "# Check if the document allows text extraction. If not, abort.\n",
    "if not document.is_extractable:\n",
    "    raise PDFTextExtractionNotAllowed\n",
    "\n",
    "# Create a PDF resource manager object that stores shared resources.\n",
    "rsrcmgr = PDFResourceManager()\n",
    "\n",
    "# Create a PDF device object.\n",
    "device = PDFDevice(rsrcmgr)\n",
    "\n",
    "# Create a PDF interpreter object.\n",
    "interpreter = PDFPageInterpreter(rsrcmgr, device)\n",
    "\n",
    "# Process each page contained in the document.\n",
    "for page in PDFPage.create_pages(document):\n",
    "    interpreter.process_page(page)\n"
   ]
  },
  {
   "cell_type": "markdown",
   "metadata": {},
   "source": [
    "# Trying PyPDF2"
   ]
  },
  {
   "cell_type": "code",
   "execution_count": null,
   "metadata": {},
   "outputs": [],
   "source": [
    "import PyPDF2 as pdf\n",
    "\n",
    "fname = r'pdf/1711.08600v1.pdf'\n",
    "\n",
    "reader = pdf.PdfFileReader(fname)\n",
    "page1 = reader.getPage(1)\n",
    "content = page1.getContents()\n",
    "text = page1.extractText()\n",
    "print (text[:100], '...')"
   ]
  },
  {
   "cell_type": "code",
   "execution_count": null,
   "metadata": {},
   "outputs": [],
   "source": []
  }
 ],
 "metadata": {
  "kernelspec": {
   "display_name": "Python 3",
   "language": "python",
   "name": "python3"
  },
  "language_info": {
   "codemirror_mode": {
    "name": "ipython",
    "version": 3
   },
   "file_extension": ".py",
   "mimetype": "text/x-python",
   "name": "python",
   "nbconvert_exporter": "python",
   "pygments_lexer": "ipython3",
   "version": "3.6.6"
  }
 },
 "nbformat": 4,
 "nbformat_minor": 2
}
