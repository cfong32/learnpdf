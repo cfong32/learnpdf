{
 "cells": [
  {
   "cell_type": "markdown",
   "metadata": {},
   "source": [
    "### Convert PDFs to XMLs\n",
    "- convert all pdf files from **pdf/** to xml files in **xml/**\n",
    "- prerequisite: *poppler* (https://poppler.freedesktop.org/)\n",
    "    - calling *pdftohtml* from *poppler*"
   ]
  },
  {
   "cell_type": "code",
   "execution_count": 19,
   "metadata": {},
   "outputs": [],
   "source": [
    "import os\n",
    "import subprocess\n",
    "\n",
    "fnames = [f for f in os.listdir('pdf/') if os.path.isfile('pdf/'+f) and f.endswith('.pdf')]\n",
    "ifnames = ['pdf/' + f for f in fnames]\n",
    "ofnames = ['xml/'+f.replace('.pdf', '.xml') for f in fnames]\n",
    "\n",
    "for i, fname in enumerate(fnames):\n",
    "    subprocess.run(['pdftohtml', '-i', '-xml', ifnames[i], ofnames[i]], stdout=subprocess.PIPE)"
   ]
  },
  {
   "cell_type": "code",
   "execution_count": null,
   "metadata": {},
   "outputs": [],
   "source": []
  }
 ],
 "metadata": {
  "kernelspec": {
   "display_name": "Python 3",
   "language": "python",
   "name": "python3"
  },
  "language_info": {
   "codemirror_mode": {
    "name": "ipython",
    "version": 3
   },
   "file_extension": ".py",
   "mimetype": "text/x-python",
   "name": "python",
   "nbconvert_exporter": "python",
   "pygments_lexer": "ipython3",
   "version": "3.6.6"
  }
 },
 "nbformat": 4,
 "nbformat_minor": 2
}
